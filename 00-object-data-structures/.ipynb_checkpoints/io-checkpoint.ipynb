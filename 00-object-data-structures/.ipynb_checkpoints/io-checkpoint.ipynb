{
 "cells": [
  {
   "cell_type": "markdown",
   "id": "134bad22",
   "metadata": {},
   "source": [
    "# I/O with Basic Files"
   ]
  },
  {
   "cell_type": "markdown",
   "id": "a0b54fc7",
   "metadata": {},
   "source": [
    "### Reading files"
   ]
  },
  {
   "cell_type": "code",
   "execution_count": 9,
   "id": "8538dde7",
   "metadata": {},
   "outputs": [],
   "source": [
    "myfile = open('test.txt')  # this file was previously created in the same directory"
   ]
  },
  {
   "cell_type": "code",
   "execution_count": 2,
   "id": "95c55731",
   "metadata": {},
   "outputs": [
    {
     "data": {
      "text/plain": [
       "'Hello this is a text file\\nthis is the second line\\nthis is the third line'"
      ]
     },
     "execution_count": 2,
     "metadata": {},
     "output_type": "execute_result"
    }
   ],
   "source": [
    "myfile.read()"
   ]
  },
  {
   "cell_type": "code",
   "execution_count": 3,
   "id": "9ee0d760",
   "metadata": {},
   "outputs": [
    {
     "data": {
      "text/plain": [
       "''"
      ]
     },
     "execution_count": 3,
     "metadata": {},
     "output_type": "execute_result"
    }
   ],
   "source": [
    "myfile.read()"
   ]
  },
  {
   "cell_type": "markdown",
   "id": "b0f02f1b",
   "metadata": {},
   "source": [
    "After **reading** a file, you must reset the cursor using `seek` back to the `0` position, if you want to be able to read it again:"
   ]
  },
  {
   "cell_type": "code",
   "execution_count": 5,
   "id": "cc672d1e",
   "metadata": {},
   "outputs": [
    {
     "data": {
      "text/plain": [
       "0"
      ]
     },
     "execution_count": 5,
     "metadata": {},
     "output_type": "execute_result"
    }
   ],
   "source": [
    "myfile.seek(0)"
   ]
  },
  {
   "cell_type": "code",
   "execution_count": 6,
   "id": "bd81c84f",
   "metadata": {},
   "outputs": [
    {
     "data": {
      "text/plain": [
       "'Hello this is a text file\\nthis is the second line\\nthis is the third line'"
      ]
     },
     "execution_count": 6,
     "metadata": {},
     "output_type": "execute_result"
    }
   ],
   "source": [
    "myfile.read()"
   ]
  },
  {
   "cell_type": "code",
   "execution_count": 7,
   "id": "2aa2a623",
   "metadata": {},
   "outputs": [
    {
     "data": {
      "text/plain": [
       "0"
      ]
     },
     "execution_count": 7,
     "metadata": {},
     "output_type": "execute_result"
    }
   ],
   "source": [
    "myfile.seek(0)"
   ]
  },
  {
   "cell_type": "markdown",
   "id": "8f0145ce",
   "metadata": {},
   "source": [
    "To separate text into different lines, you can use the `readlines()` method"
   ]
  },
  {
   "cell_type": "code",
   "execution_count": 8,
   "id": "730c9346",
   "metadata": {},
   "outputs": [
    {
     "data": {
      "text/plain": [
       "['Hello this is a text file\\n',\n",
       " 'this is the second line\\n',\n",
       " 'this is the third line']"
      ]
     },
     "execution_count": 8,
     "metadata": {},
     "output_type": "execute_result"
    }
   ],
   "source": [
    "myfile.readlines()"
   ]
  },
  {
   "cell_type": "markdown",
   "id": "57868c1d",
   "metadata": {},
   "source": [
    "### File locations\n",
    "If you want to open files at another location on your computer, simply pass in the entire file path/\n",
    "\n",
    "For Windows you need to use the double \\ so Python doesn't treat the second \\ as an escape character, a file path is in the form:\n",
    "       \n",
    "       myfile = open(\"C:\\\\Users\\\\UserName\\\\Folder\\\\test.txt\")\n",
    "    \n",
    "For MacOS and Linux you use slashes in the opposite direction:\n",
    "   \n",
    "       myfile = open(\"/Users/UserName/Folder/myfile.txt\")"
   ]
  },
  {
   "cell_type": "code",
   "execution_count": 10,
   "id": "88a4d82e",
   "metadata": {},
   "outputs": [
    {
     "data": {
      "text/plain": [
       "'/home/aaron/python/python-bootcamp/03-object-data-structures'"
      ]
     },
     "execution_count": 10,
     "metadata": {},
     "output_type": "execute_result"
    }
   ],
   "source": [
    "pwd"
   ]
  },
  {
   "cell_type": "markdown",
   "id": "b302d5cb",
   "metadata": {},
   "source": [
    "### Best practices"
   ]
  },
  {
   "cell_type": "markdown",
   "id": "be02b130",
   "metadata": {},
   "source": [
    "We should also **close** a file when we're doing using it:"
   ]
  },
  {
   "cell_type": "code",
   "execution_count": 11,
   "id": "eec6ecdb",
   "metadata": {},
   "outputs": [],
   "source": [
    "myfile.close()"
   ]
  },
  {
   "cell_type": "markdown",
   "id": "da608003",
   "metadata": {},
   "source": [
    "We can use the `with` method to make this a more seamless approach"
   ]
  },
  {
   "cell_type": "code",
   "execution_count": 12,
   "id": "a87f5491",
   "metadata": {},
   "outputs": [],
   "source": [
    "with open('test.txt') as my_new_file:\n",
    "    contents = my_new_file.read()"
   ]
  },
  {
   "cell_type": "code",
   "execution_count": 13,
   "id": "e7ac8cdd",
   "metadata": {},
   "outputs": [
    {
     "data": {
      "text/plain": [
       "'Hello this is a text file\\nthis is the second line\\nthis is the third line'"
      ]
     },
     "execution_count": 13,
     "metadata": {},
     "output_type": "execute_result"
    }
   ],
   "source": [
    "contents"
   ]
  },
  {
   "cell_type": "markdown",
   "id": "c117b137",
   "metadata": {},
   "source": [
    "### Reading, writing, appending modes\n",
    "We have the following mode options:\n",
    "* **mode='r'** is read only\n",
    "* **mode='w'** is write only (will overwrite files or create new!)\n",
    "* **mode='a'** is append only (will add on to files)\n",
    "* **mode='r+'** is reading and writing\n",
    "* **mode='w+'** is writing and reading (overwrites existing files or creates a new file!)"
   ]
  },
  {
   "cell_type": "code",
   "execution_count": 19,
   "id": "a3f3384b",
   "metadata": {},
   "outputs": [
    {
     "name": "stdout",
     "output_type": "stream",
     "text": [
      "Writing my_new_file.txt\n"
     ]
    }
   ],
   "source": [
    "%%writefile my_new_file.txt\n",
    "ONE ON FIRST\n",
    "TWO ON SECOND\n",
    "THREE ON THIRD"
   ]
  },
  {
   "cell_type": "code",
   "execution_count": 20,
   "id": "a4c507b1",
   "metadata": {},
   "outputs": [
    {
     "name": "stdout",
     "output_type": "stream",
     "text": [
      "ONE ON FIRST\n",
      "TWO ON SECOND\n",
      "THREE ON THIRD\n",
      "\n"
     ]
    }
   ],
   "source": [
    "with open('my_new_file.txt', mode='r') as f:\n",
    "    print(f.read())"
   ]
  },
  {
   "cell_type": "code",
   "execution_count": 21,
   "id": "80779b28",
   "metadata": {},
   "outputs": [],
   "source": [
    "with open('my_new_file.txt', mode='a') as f:\n",
    "    f.write('FOUR ON FOURTH')"
   ]
  },
  {
   "cell_type": "code",
   "execution_count": 22,
   "id": "43713299",
   "metadata": {},
   "outputs": [
    {
     "name": "stdout",
     "output_type": "stream",
     "text": [
      "ONE ON FIRST\n",
      "TWO ON SECOND\n",
      "THREE ON THIRD\n",
      "FOUR ON FOURTH\n"
     ]
    }
   ],
   "source": [
    "with open('my_new_file.txt', mode='r') as f:\n",
    "    print(f.read())"
   ]
  },
  {
   "cell_type": "code",
   "execution_count": 24,
   "id": "378b2312",
   "metadata": {},
   "outputs": [],
   "source": [
    "with open('asdifhdsaiufhd.txt', mode='w') as f:\n",
    "    f.write('I CREATED THIS FILE!')"
   ]
  },
  {
   "cell_type": "code",
   "execution_count": 25,
   "id": "0ce15912",
   "metadata": {},
   "outputs": [
    {
     "name": "stdout",
     "output_type": "stream",
     "text": [
      "I CREATED THIS FILE!\n"
     ]
    }
   ],
   "source": [
    "with open('asdifhdsaiufhd.txt', mode='r') as f:\n",
    "    print(f.read())"
   ]
  }
 ],
 "metadata": {
  "kernelspec": {
   "display_name": "Python 3 (ipykernel)",
   "language": "python",
   "name": "python3"
  },
  "language_info": {
   "codemirror_mode": {
    "name": "ipython",
    "version": 3
   },
   "file_extension": ".py",
   "mimetype": "text/x-python",
   "name": "python",
   "nbconvert_exporter": "python",
   "pygments_lexer": "ipython3",
   "version": "3.9.12"
  }
 },
 "nbformat": 4,
 "nbformat_minor": 5
}
