{
 "cells": [
  {
   "cell_type": "markdown",
   "id": "6d72cbc6",
   "metadata": {},
   "source": [
    "# Chaining Comparison Operators\n",
    "\n",
    "* We can use **logical operators** to combine comparisons:\n",
    "    * **and**\n",
    "    * **or**\n",
    "    * **not**"
   ]
  },
  {
   "cell_type": "code",
   "execution_count": 1,
   "id": "0701ec69",
   "metadata": {},
   "outputs": [
    {
     "data": {
      "text/plain": [
       "True"
      ]
     },
     "execution_count": 1,
     "metadata": {},
     "output_type": "execute_result"
    }
   ],
   "source": [
    "1 < 2"
   ]
  },
  {
   "cell_type": "code",
   "execution_count": 2,
   "id": "217cd94c",
   "metadata": {},
   "outputs": [
    {
     "data": {
      "text/plain": [
       "True"
      ]
     },
     "execution_count": 2,
     "metadata": {},
     "output_type": "execute_result"
    }
   ],
   "source": [
    "2 < 3"
   ]
  },
  {
   "cell_type": "markdown",
   "id": "7e73187e",
   "metadata": {},
   "source": [
    "## Chaining:"
   ]
  },
  {
   "cell_type": "code",
   "execution_count": 3,
   "id": "6f08bfa9",
   "metadata": {},
   "outputs": [
    {
     "data": {
      "text/plain": [
       "True"
      ]
     },
     "execution_count": 3,
     "metadata": {},
     "output_type": "execute_result"
    }
   ],
   "source": [
    "1 < 2 < 3"
   ]
  },
  {
   "cell_type": "markdown",
   "id": "269558cf",
   "metadata": {},
   "source": [
    "## Logical operators:\n",
    "\n",
    "#### Using `and` keyword:"
   ]
  },
  {
   "cell_type": "code",
   "execution_count": 5,
   "id": "782761c5",
   "metadata": {},
   "outputs": [
    {
     "data": {
      "text/plain": [
       "True"
      ]
     },
     "execution_count": 5,
     "metadata": {},
     "output_type": "execute_result"
    }
   ],
   "source": [
    "1 < 2 and 2 < 3"
   ]
  },
  {
   "cell_type": "code",
   "execution_count": 6,
   "id": "85eb260e",
   "metadata": {},
   "outputs": [
    {
     "data": {
      "text/plain": [
       "True"
      ]
     },
     "execution_count": 6,
     "metadata": {},
     "output_type": "execute_result"
    }
   ],
   "source": [
    "'h' == 'h' and 2 == 2"
   ]
  },
  {
   "cell_type": "markdown",
   "id": "7058087d",
   "metadata": {},
   "source": [
    "#### Using `or` keyword:"
   ]
  },
  {
   "cell_type": "code",
   "execution_count": 7,
   "id": "30c9f4a3",
   "metadata": {},
   "outputs": [
    {
     "data": {
      "text/plain": [
       "True"
      ]
     },
     "execution_count": 7,
     "metadata": {},
     "output_type": "execute_result"
    }
   ],
   "source": [
    "1 == 1 or 2 == 4"
   ]
  },
  {
   "cell_type": "code",
   "execution_count": 8,
   "id": "4ae9f015",
   "metadata": {},
   "outputs": [
    {
     "data": {
      "text/plain": [
       "True"
      ]
     },
     "execution_count": 8,
     "metadata": {},
     "output_type": "execute_result"
    }
   ],
   "source": [
    "1 == 1 or 2 == 2"
   ]
  },
  {
   "cell_type": "code",
   "execution_count": 9,
   "id": "0ea84584",
   "metadata": {},
   "outputs": [
    {
     "data": {
      "text/plain": [
       "False"
      ]
     },
     "execution_count": 9,
     "metadata": {},
     "output_type": "execute_result"
    }
   ],
   "source": [
    "1 == 2 or 2 == 5"
   ]
  },
  {
   "cell_type": "markdown",
   "id": "4172720a",
   "metadata": {},
   "source": [
    "#### Using `not` keyword (essentially just returns the opposite boolean value):"
   ]
  },
  {
   "cell_type": "code",
   "execution_count": 11,
   "id": "69fd9e53",
   "metadata": {},
   "outputs": [
    {
     "data": {
      "text/plain": [
       "True"
      ]
     },
     "execution_count": 11,
     "metadata": {},
     "output_type": "execute_result"
    }
   ],
   "source": [
    "1 == 1"
   ]
  },
  {
   "cell_type": "code",
   "execution_count": 12,
   "id": "4cb4aa94",
   "metadata": {},
   "outputs": [
    {
     "data": {
      "text/plain": [
       "False"
      ]
     },
     "execution_count": 12,
     "metadata": {},
     "output_type": "execute_result"
    }
   ],
   "source": [
    "not 1 == 1"
   ]
  },
  {
   "cell_type": "code",
   "execution_count": 13,
   "id": "e813dac2",
   "metadata": {},
   "outputs": [
    {
     "data": {
      "text/plain": [
       "False"
      ]
     },
     "execution_count": 13,
     "metadata": {},
     "output_type": "execute_result"
    }
   ],
   "source": [
    "400 > 5000"
   ]
  },
  {
   "cell_type": "code",
   "execution_count": 14,
   "id": "ffdf4644",
   "metadata": {},
   "outputs": [
    {
     "data": {
      "text/plain": [
       "True"
      ]
     },
     "execution_count": 14,
     "metadata": {},
     "output_type": "execute_result"
    }
   ],
   "source": [
    "not 400 > 5000"
   ]
  },
  {
   "cell_type": "code",
   "execution_count": null,
   "id": "8f42fabd",
   "metadata": {},
   "outputs": [],
   "source": []
  }
 ],
 "metadata": {
  "kernelspec": {
   "display_name": "Python 3 (ipykernel)",
   "language": "python",
   "name": "python3"
  },
  "language_info": {
   "codemirror_mode": {
    "name": "ipython",
    "version": 3
   },
   "file_extension": ".py",
   "mimetype": "text/x-python",
   "name": "python",
   "nbconvert_exporter": "python",
   "pygments_lexer": "ipython3",
   "version": "3.9.12"
  }
 },
 "nbformat": 4,
 "nbformat_minor": 5
}
