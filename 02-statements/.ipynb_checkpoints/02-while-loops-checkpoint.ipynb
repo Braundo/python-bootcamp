{
 "cells": [
  {
   "cell_type": "markdown",
   "id": "7a060c8b",
   "metadata": {},
   "source": [
    "# While Loops\n",
    "\n",
    "**While loops** will continue to execute a block of code **while** some condition remains `True`\n",
    "\n",
    "### Syntax of a while loop\n",
    "```\n",
    "while some_boolean_condition:\n",
    "    do something\n",
    "```\n",
    "\n",
    "#### Combine with an `else` statement\n",
    "```\n",
    "while some_boolean_condition:\n",
    "    do something\n",
    "else:\n",
    "    do something different\n",
    "```"
   ]
  },
  {
   "cell_type": "code",
   "execution_count": 3,
   "id": "a1f3d81b",
   "metadata": {},
   "outputs": [
    {
     "name": "stdout",
     "output_type": "stream",
     "text": [
      "The current value of x is 0\n",
      "The current value of x is 1\n",
      "The current value of x is 2\n",
      "The current value of x is 3\n",
      "The current value of x is 4\n"
     ]
    }
   ],
   "source": [
    "x = 0\n",
    "\n",
    "while x < 5:\n",
    "    print(f'The current value of x is {x}')\n",
    "    x += 1"
   ]
  },
  {
   "cell_type": "code",
   "execution_count": 4,
   "id": "774b54e7",
   "metadata": {},
   "outputs": [
    {
     "name": "stdout",
     "output_type": "stream",
     "text": [
      "The current value of x is 0\n",
      "The current value of x is 1\n",
      "The current value of x is 2\n",
      "The current value of x is 3\n",
      "The current value of x is 4\n",
      "X IS NOT LESS THAN 5\n"
     ]
    }
   ],
   "source": [
    "x = 0\n",
    "\n",
    "while x < 5:\n",
    "    print(f'The current value of x is {x}')\n",
    "    x += 1\n",
    "else:\n",
    "    print('X IS NOT LESS THAN 5')"
   ]
  },
  {
   "cell_type": "markdown",
   "id": "b108c698",
   "metadata": {},
   "source": [
    "## Keywords with `while` loops\n",
    "* **`break`** - breaks out of the current closest enclosing loop\n",
    "* **`continue`** - goes to the top of the closest enclosing loop\n",
    "* **`pass`** - does nothing at all"
   ]
  },
  {
   "cell_type": "markdown",
   "id": "a6d43c83",
   "metadata": {},
   "source": [
    "#### `pass` example"
   ]
  },
  {
   "cell_type": "code",
   "execution_count": 9,
   "id": "690cc402",
   "metadata": {},
   "outputs": [],
   "source": [
    "x = [1, 2, 3]\n",
    "\n",
    "for item in x:\n",
    "    pass  # you cannot leave this blank, so if you want nothing to happen yet, use 'pass'"
   ]
  },
  {
   "cell_type": "markdown",
   "id": "a28dddab",
   "metadata": {},
   "source": [
    "#### `continue` example"
   ]
  },
  {
   "cell_type": "code",
   "execution_count": 11,
   "id": "551e0d4d",
   "metadata": {},
   "outputs": [
    {
     "name": "stdout",
     "output_type": "stream",
     "text": [
      "S\n",
      "m\n",
      "m\n",
      "y\n"
     ]
    }
   ],
   "source": [
    "mystring = 'Sammy'\n",
    "\n",
    "for letter in mystring:\n",
    "    if letter == 'a':\n",
    "        continue  # this will kick it back to the for loop here\n",
    "    print(letter)"
   ]
  },
  {
   "cell_type": "markdown",
   "id": "5d55287c",
   "metadata": {},
   "source": [
    "#### `break` example"
   ]
  },
  {
   "cell_type": "code",
   "execution_count": 12,
   "id": "c077a8fa",
   "metadata": {},
   "outputs": [
    {
     "name": "stdout",
     "output_type": "stream",
     "text": [
      "S\n"
     ]
    }
   ],
   "source": [
    "mystring = 'Sammy'\n",
    "\n",
    "for letter in mystring:\n",
    "    if letter == 'a':\n",
    "        break  # this will break the out of the for loop here\n",
    "    print(letter)"
   ]
  },
  {
   "cell_type": "code",
   "execution_count": 13,
   "id": "37a19680",
   "metadata": {},
   "outputs": [
    {
     "name": "stdout",
     "output_type": "stream",
     "text": [
      "0\n",
      "1\n",
      "2\n",
      "3\n",
      "4\n"
     ]
    }
   ],
   "source": [
    "x = 0\n",
    "\n",
    "while x < 5:\n",
    "    print(x)\n",
    "    x += 1"
   ]
  },
  {
   "cell_type": "code",
   "execution_count": 16,
   "id": "ccb13a1c",
   "metadata": {},
   "outputs": [
    {
     "name": "stdout",
     "output_type": "stream",
     "text": [
      "0\n",
      "1\n"
     ]
    }
   ],
   "source": [
    "x = 0\n",
    "\n",
    "# imagine we want to break this loop if x == 2\n",
    "while x < 5:\n",
    "    if x == 2:\n",
    "        break\n",
    "    print(x)\n",
    "    x += 1"
   ]
  }
 ],
 "metadata": {
  "kernelspec": {
   "display_name": "Python 3 (ipykernel)",
   "language": "python",
   "name": "python3"
  },
  "language_info": {
   "codemirror_mode": {
    "name": "ipython",
    "version": 3
   },
   "file_extension": ".py",
   "mimetype": "text/x-python",
   "name": "python",
   "nbconvert_exporter": "python",
   "pygments_lexer": "ipython3",
   "version": "3.9.12"
  }
 },
 "nbformat": 4,
 "nbformat_minor": 5
}
