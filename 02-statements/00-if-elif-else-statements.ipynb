{
 "cells": [
  {
   "cell_type": "markdown",
   "id": "10d47bc5",
   "metadata": {},
   "source": [
    "# If, elif, else statements\n",
    "\n",
    "### Control Flow\n",
    "* **Control flow** lets us execute certain code only when a particular condition as been met\n",
    "    * i.e.: **if** my dog is hungry (condition), then I will feed the dog (some action)\n",
    "    \n",
    "    \n",
    "* To control this flow of logic, we use three keywords:\n",
    "    * `if`\n",
    "    * `elif`\n",
    "    * `else`\n",
    "    \n",
    "### _if_ statement syntax\n",
    "```\n",
    "if some_condition:\n",
    "    execute some code\n",
    "```\n",
    "\n",
    "### _elif_ statement syntax\n",
    "```\n",
    "if some_condition:\n",
    "    execute some code\n",
    "elif some_other_condition:\n",
    "    execute some code\n",
    "else:\n",
    "    do something else\n",
    "```\n",
    "\n",
    "### _else_ statement syntax\n",
    "```\n",
    "if some_condition:\n",
    "    execute some code\n",
    "else:\n",
    "    do something else\n",
    "```"
   ]
  },
  {
   "cell_type": "code",
   "execution_count": 5,
   "id": "a102f687",
   "metadata": {},
   "outputs": [
    {
     "name": "stdout",
     "output_type": "stream",
     "text": [
      "Feed me!\n"
     ]
    }
   ],
   "source": [
    "hungry = True\n",
    "\n",
    "if hungry == True:\n",
    "    print('Feed me!')\n",
    "else:\n",
    "    print('I am not hungry')"
   ]
  },
  {
   "cell_type": "code",
   "execution_count": 9,
   "id": "99d222cc",
   "metadata": {},
   "outputs": [
    {
     "name": "stdout",
     "output_type": "stream",
     "text": [
      "Money is cool!\n"
     ]
    }
   ],
   "source": [
    "loc = 'Bank'\n",
    "\n",
    "if loc == 'Auto Shop':\n",
    "    print('Cars are cool!')\n",
    "elif loc == 'Bank':\n",
    "    print('Money is cool!')\n",
    "elif loc == 'Store':\n",
    "    print('Welcome to the store!')\n",
    "else:\n",
    "    print('I do not know much.')"
   ]
  },
  {
   "cell_type": "code",
   "execution_count": 11,
   "id": "46e486c9",
   "metadata": {},
   "outputs": [
    {
     "name": "stdout",
     "output_type": "stream",
     "text": [
      "Hello Sammy!\n"
     ]
    }
   ],
   "source": [
    "name = 'Sammy'\n",
    "\n",
    "if name == 'Frankie':\n",
    "    print('Hello Frankie!')\n",
    "elif name == 'Sammy':\n",
    "    print('Hello Sammy!')\n",
    "else:\n",
    "    print('What is your name?')"
   ]
  }
 ],
 "metadata": {
  "kernelspec": {
   "display_name": "Python 3 (ipykernel)",
   "language": "python",
   "name": "python3"
  },
  "language_info": {
   "codemirror_mode": {
    "name": "ipython",
    "version": 3
   },
   "file_extension": ".py",
   "mimetype": "text/x-python",
   "name": "python",
   "nbconvert_exporter": "python",
   "pygments_lexer": "ipython3",
   "version": "3.9.12"
  }
 },
 "nbformat": 4,
 "nbformat_minor": 5
}
