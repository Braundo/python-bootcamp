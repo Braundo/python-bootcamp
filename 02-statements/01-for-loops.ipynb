{
 "cells": [
  {
   "cell_type": "markdown",
   "id": "8e79c41a",
   "metadata": {},
   "source": [
    "# For Loops\n",
    "\n",
    "### Syntax of a `for` loop\n",
    "```\n",
    "my_iterable = [1, 2, 3]\n",
    "\n",
    "for item_name in my_iterable:\n",
    "    print(item_name)\n",
    "\n",
    ">> 1\n",
    ">> 2\n",
    ">> 3\n",
    "```"
   ]
  },
  {
   "cell_type": "markdown",
   "id": "64e71228",
   "metadata": {},
   "source": [
    "### Iterating through `lists` and `strings`"
   ]
  },
  {
   "cell_type": "code",
   "execution_count": 1,
   "id": "d189d624",
   "metadata": {},
   "outputs": [],
   "source": [
    "mylist = [1, 2, 3, 4, 5, 6, 7, 8, 9, 10]"
   ]
  },
  {
   "cell_type": "code",
   "execution_count": 5,
   "id": "b8414a43",
   "metadata": {},
   "outputs": [
    {
     "name": "stdout",
     "output_type": "stream",
     "text": [
      "1\n",
      "2\n",
      "3\n",
      "4\n",
      "5\n",
      "6\n",
      "7\n",
      "8\n",
      "9\n",
      "10\n"
     ]
    }
   ],
   "source": [
    "for num in mylist:\n",
    "    print(num)"
   ]
  },
  {
   "cell_type": "code",
   "execution_count": 6,
   "id": "2b3304be",
   "metadata": {},
   "outputs": [
    {
     "name": "stdout",
     "output_type": "stream",
     "text": [
      "2\n",
      "4\n",
      "6\n",
      "8\n",
      "10\n"
     ]
    }
   ],
   "source": [
    "for num in mylist:\n",
    "    # Check for even\n",
    "    if num % 2 == 0:\n",
    "        print(num)"
   ]
  },
  {
   "cell_type": "code",
   "execution_count": 7,
   "id": "c98c1f0b",
   "metadata": {},
   "outputs": [
    {
     "name": "stdout",
     "output_type": "stream",
     "text": [
      "1 is odd\n",
      "2 is even\n",
      "3 is odd\n",
      "4 is even\n",
      "5 is odd\n",
      "6 is even\n",
      "7 is odd\n",
      "8 is even\n",
      "9 is odd\n",
      "10 is even\n"
     ]
    }
   ],
   "source": [
    "for num in mylist:\n",
    "    # Check for even\n",
    "    if num % 2 == 0:\n",
    "        print(f'{num} is even')\n",
    "    else:\n",
    "        print(f'{num} is odd')"
   ]
  },
  {
   "cell_type": "code",
   "execution_count": 12,
   "id": "0c8c51d0",
   "metadata": {},
   "outputs": [
    {
     "name": "stdout",
     "output_type": "stream",
     "text": [
      "Current list sum is: 1\n",
      "Current list sum is: 3\n",
      "Current list sum is: 6\n",
      "Current list sum is: 10\n",
      "Current list sum is: 15\n",
      "Current list sum is: 21\n",
      "Current list sum is: 28\n",
      "Current list sum is: 36\n",
      "Current list sum is: 45\n",
      "Current list sum is: 55\n"
     ]
    }
   ],
   "source": [
    "list_sum = 0\n",
    "\n",
    "for num in mylist:\n",
    "    list_sum += num\n",
    "    print(f'Current list sum is: {list_sum}')"
   ]
  },
  {
   "cell_type": "code",
   "execution_count": 13,
   "id": "52ba44b6",
   "metadata": {},
   "outputs": [
    {
     "name": "stdout",
     "output_type": "stream",
     "text": [
      "H\n",
      "e\n",
      "l\n",
      "l\n",
      "o\n",
      " \n",
      "W\n",
      "o\n",
      "r\n",
      "l\n",
      "d\n"
     ]
    }
   ],
   "source": [
    "mystring = 'Hello World'\n",
    "\n",
    "for letter in mystring:\n",
    "    print(letter)"
   ]
  },
  {
   "cell_type": "code",
   "execution_count": 14,
   "id": "a8201fa1",
   "metadata": {},
   "outputs": [
    {
     "name": "stdout",
     "output_type": "stream",
     "text": [
      "1\n",
      "2\n",
      "3\n"
     ]
    }
   ],
   "source": [
    "tup = (1, 2, 3)\n",
    "\n",
    "for item in tup:\n",
    "    print(item)"
   ]
  },
  {
   "cell_type": "markdown",
   "id": "6a1bcea6",
   "metadata": {},
   "source": [
    "### Tuple unpacking"
   ]
  },
  {
   "cell_type": "code",
   "execution_count": 15,
   "id": "e66a1e0a",
   "metadata": {},
   "outputs": [],
   "source": [
    "# list of tuple pairs\n",
    "mylist = [(1,2), (3,4), (5,6), (7,8)]"
   ]
  },
  {
   "cell_type": "code",
   "execution_count": 16,
   "id": "7c8a9379",
   "metadata": {},
   "outputs": [
    {
     "data": {
      "text/plain": [
       "4"
      ]
     },
     "execution_count": 16,
     "metadata": {},
     "output_type": "execute_result"
    }
   ],
   "source": [
    "len(mylist)"
   ]
  },
  {
   "cell_type": "code",
   "execution_count": 17,
   "id": "05a75a17",
   "metadata": {},
   "outputs": [
    {
     "name": "stdout",
     "output_type": "stream",
     "text": [
      "(1, 2)\n",
      "(3, 4)\n",
      "(5, 6)\n",
      "(7, 8)\n"
     ]
    }
   ],
   "source": [
    "for item in mylist:\n",
    "    print(item)"
   ]
  },
  {
   "cell_type": "code",
   "execution_count": 22,
   "id": "997731df",
   "metadata": {},
   "outputs": [
    {
     "name": "stdout",
     "output_type": "stream",
     "text": [
      "1\n",
      "3\n",
      "5\n",
      "7\n"
     ]
    }
   ],
   "source": [
    "for a,b in mylist:\n",
    "    print(a)"
   ]
  },
  {
   "cell_type": "code",
   "execution_count": 23,
   "id": "d45232a1",
   "metadata": {},
   "outputs": [],
   "source": [
    "mylist = [(1,2,3), (5,6,7), (8,9,10)]"
   ]
  },
  {
   "cell_type": "code",
   "execution_count": 24,
   "id": "daa08616",
   "metadata": {},
   "outputs": [
    {
     "name": "stdout",
     "output_type": "stream",
     "text": [
      "(1, 2, 3)\n",
      "(5, 6, 7)\n",
      "(8, 9, 10)\n"
     ]
    }
   ],
   "source": [
    "for item in mylist:\n",
    "    print(item)"
   ]
  },
  {
   "cell_type": "code",
   "execution_count": 26,
   "id": "b98aa38a",
   "metadata": {},
   "outputs": [
    {
     "name": "stdout",
     "output_type": "stream",
     "text": [
      "2\n",
      "6\n",
      "9\n"
     ]
    }
   ],
   "source": [
    "for a,b,c in mylist:\n",
    "    print(b)"
   ]
  },
  {
   "cell_type": "markdown",
   "id": "9772cb33",
   "metadata": {},
   "source": [
    "### Iterating through `dictionaries`\n",
    "* By default, when you iterate through a dictionary, you only iterate through the `keys`\n",
    "* To get the values as well, you have to call the dictionary with `.items()` appended to the end\n",
    "* To get _only_ the values, you can use **tuple unpacking** from above"
   ]
  },
  {
   "cell_type": "code",
   "execution_count": 33,
   "id": "40089424",
   "metadata": {},
   "outputs": [
    {
     "name": "stdout",
     "output_type": "stream",
     "text": [
      "k1\n",
      "k2\n",
      "k3\n"
     ]
    }
   ],
   "source": [
    "d = {'k1':1, 'k2':2, 'k3':3}\n",
    "\n",
    "# iterating through just the keys\n",
    "for thing in d:\n",
    "    print(thing)"
   ]
  },
  {
   "cell_type": "code",
   "execution_count": 34,
   "id": "66f12560",
   "metadata": {},
   "outputs": [
    {
     "name": "stdout",
     "output_type": "stream",
     "text": [
      "('k1', 1)\n",
      "('k2', 2)\n",
      "('k3', 3)\n"
     ]
    }
   ],
   "source": [
    "# iterating through the values\n",
    "for thing in d.items():\n",
    "    print(thing)"
   ]
  },
  {
   "cell_type": "code",
   "execution_count": 36,
   "id": "aac1a105",
   "metadata": {},
   "outputs": [
    {
     "name": "stdout",
     "output_type": "stream",
     "text": [
      "1\n",
      "2\n",
      "3\n"
     ]
    }
   ],
   "source": [
    "# tuple unpacking via dictionary\n",
    "for key, value in d.items():\n",
    "    print(value)"
   ]
  }
 ],
 "metadata": {
  "kernelspec": {
   "display_name": "Python 3 (ipykernel)",
   "language": "python",
   "name": "python3"
  },
  "language_info": {
   "codemirror_mode": {
    "name": "ipython",
    "version": 3
   },
   "file_extension": ".py",
   "mimetype": "text/x-python",
   "name": "python",
   "nbconvert_exporter": "python",
   "pygments_lexer": "ipython3",
   "version": "3.9.12"
  }
 },
 "nbformat": 4,
 "nbformat_minor": 5
}
