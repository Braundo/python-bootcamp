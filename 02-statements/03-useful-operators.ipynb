{
 "cells": [
  {
   "cell_type": "markdown",
   "id": "31579427",
   "metadata": {},
   "source": [
    "# Useful operators\n",
    "\n",
    "### `range` function\n",
    "Useful with `for` loops where you can provide three different options as input:\n",
    "\n",
    "* `for num in range(start, stop, step_size)`\n",
    "\n",
    "* `start` and `step_size` are _optional_ parameters\n",
    "* `stop` means _up to_ but _not including_"
   ]
  },
  {
   "cell_type": "code",
   "execution_count": 2,
   "id": "c390c8ca",
   "metadata": {},
   "outputs": [
    {
     "name": "stdout",
     "output_type": "stream",
     "text": [
      "0\n",
      "1\n",
      "2\n",
      "3\n",
      "4\n",
      "5\n",
      "6\n",
      "7\n",
      "8\n",
      "9\n"
     ]
    }
   ],
   "source": [
    "for num in range(10):\n",
    "    print(num)"
   ]
  },
  {
   "cell_type": "code",
   "execution_count": 3,
   "id": "0b6680bc",
   "metadata": {},
   "outputs": [
    {
     "name": "stdout",
     "output_type": "stream",
     "text": [
      "3\n",
      "4\n",
      "5\n",
      "6\n",
      "7\n",
      "8\n",
      "9\n"
     ]
    }
   ],
   "source": [
    "for num in range(3,10):\n",
    "    print(num)"
   ]
  },
  {
   "cell_type": "code",
   "execution_count": 4,
   "id": "d5617a70",
   "metadata": {},
   "outputs": [
    {
     "name": "stdout",
     "output_type": "stream",
     "text": [
      "0\n",
      "2\n",
      "4\n",
      "6\n",
      "8\n"
     ]
    }
   ],
   "source": [
    "for num in range(0,10,2):\n",
    "    print(num)"
   ]
  },
  {
   "cell_type": "markdown",
   "id": "7a53b9d3",
   "metadata": {},
   "source": [
    "### `enumerate` function\n",
    "* This will return a tuple with the **index** and **value**"
   ]
  },
  {
   "cell_type": "code",
   "execution_count": 6,
   "id": "b1b937d1",
   "metadata": {},
   "outputs": [
    {
     "name": "stdout",
     "output_type": "stream",
     "text": [
      "At index 0 the letter is a\n",
      "At index 1 the letter is b\n",
      "At index 2 the letter is c\n",
      "At index 3 the letter is d\n",
      "At index 4 the letter is e\n"
     ]
    }
   ],
   "source": [
    "# without enumeration\n",
    "index_count = 0\n",
    "\n",
    "for letter in 'abcde':\n",
    "    print(f'At index {index_count} the letter is {letter}')\n",
    "    index_count += 1"
   ]
  },
  {
   "cell_type": "code",
   "execution_count": 9,
   "id": "756ec0ff",
   "metadata": {},
   "outputs": [
    {
     "name": "stdout",
     "output_type": "stream",
     "text": [
      "(0, 'a')\n",
      "(1, 'b')\n",
      "(2, 'c')\n",
      "(3, 'd')\n",
      "(4, 'e')\n"
     ]
    }
   ],
   "source": [
    "# with enumeration\n",
    "word = 'abcde'\n",
    "\n",
    "for item in enumerate(word):\n",
    "    print(item)"
   ]
  },
  {
   "cell_type": "code",
   "execution_count": 10,
   "id": "03f71003",
   "metadata": {},
   "outputs": [
    {
     "name": "stdout",
     "output_type": "stream",
     "text": [
      "a\n",
      "b\n",
      "c\n",
      "d\n",
      "e\n"
     ]
    }
   ],
   "source": [
    "# with enumeration & tuple unpacking\n",
    "word = 'abcde'\n",
    "\n",
    "for index,letter in enumerate(word):\n",
    "    print(letter)"
   ]
  },
  {
   "cell_type": "markdown",
   "id": "5c252b04",
   "metadata": {},
   "source": [
    "### `zip` function\n",
    "* zips together two lists and returns it as a series of tuples"
   ]
  },
  {
   "cell_type": "code",
   "execution_count": 11,
   "id": "54656457",
   "metadata": {},
   "outputs": [],
   "source": [
    "mylist1 = [1, 2, 3]\n",
    "mylist2 = ['a', 'b', 'c']"
   ]
  },
  {
   "cell_type": "code",
   "execution_count": 12,
   "id": "d78ac2e8",
   "metadata": {},
   "outputs": [
    {
     "name": "stdout",
     "output_type": "stream",
     "text": [
      "(1, 'a')\n",
      "(2, 'b')\n",
      "(3, 'c')\n"
     ]
    }
   ],
   "source": [
    "for item in zip(mylist1, mylist2):\n",
    "    print(item)"
   ]
  },
  {
   "cell_type": "markdown",
   "id": "02fe419e",
   "metadata": {},
   "source": [
    "##### you can also do this with more than 2 lists:"
   ]
  },
  {
   "cell_type": "code",
   "execution_count": 13,
   "id": "7ad384c5",
   "metadata": {},
   "outputs": [],
   "source": [
    "mylist3 = [100, 200, 300]"
   ]
  },
  {
   "cell_type": "code",
   "execution_count": 14,
   "id": "117b9933",
   "metadata": {},
   "outputs": [
    {
     "name": "stdout",
     "output_type": "stream",
     "text": [
      "(1, 'a', 100)\n",
      "(2, 'b', 200)\n",
      "(3, 'c', 300)\n"
     ]
    }
   ],
   "source": [
    "for item in zip(mylist1, mylist2, mylist3):\n",
    "    print(item)"
   ]
  },
  {
   "cell_type": "markdown",
   "id": "0704674f",
   "metadata": {},
   "source": [
    "##### what happens if lists are uneven?"
   ]
  },
  {
   "cell_type": "code",
   "execution_count": 15,
   "id": "ba000c6b",
   "metadata": {},
   "outputs": [],
   "source": [
    "mylist4 = [9, 8, 7, 6, 5, 4, 3, 2, 1]"
   ]
  },
  {
   "cell_type": "code",
   "execution_count": 16,
   "id": "697d2ecf",
   "metadata": {},
   "outputs": [
    {
     "name": "stdout",
     "output_type": "stream",
     "text": [
      "(1, 'a', 100, 9)\n",
      "(2, 'b', 200, 8)\n",
      "(3, 'c', 300, 7)\n"
     ]
    }
   ],
   "source": [
    "for item in zip(mylist1, mylist2, mylist3, mylist4):\n",
    "    print(item)"
   ]
  },
  {
   "cell_type": "markdown",
   "id": "6121a792",
   "metadata": {},
   "source": [
    "_it will only zip up as much as the smallest list and ignore the extra_"
   ]
  },
  {
   "cell_type": "markdown",
   "id": "7783594d",
   "metadata": {},
   "source": [
    "### `in` function\n",
    "* can easily be used to check if a value is _**in**_ a given item and return a `boolean`"
   ]
  },
  {
   "cell_type": "markdown",
   "id": "27e37e56",
   "metadata": {},
   "source": [
    "#### lists:"
   ]
  },
  {
   "cell_type": "code",
   "execution_count": 17,
   "id": "3ae16c21",
   "metadata": {},
   "outputs": [
    {
     "data": {
      "text/plain": [
       "False"
      ]
     },
     "execution_count": 17,
     "metadata": {},
     "output_type": "execute_result"
    }
   ],
   "source": [
    "'x' in [1, 2, 3]"
   ]
  },
  {
   "cell_type": "code",
   "execution_count": 18,
   "id": "4f5ad4f6",
   "metadata": {},
   "outputs": [
    {
     "data": {
      "text/plain": [
       "True"
      ]
     },
     "execution_count": 18,
     "metadata": {},
     "output_type": "execute_result"
    }
   ],
   "source": [
    "'x' in ['x', 'y', 'z']"
   ]
  },
  {
   "cell_type": "markdown",
   "id": "2b5ac175",
   "metadata": {},
   "source": [
    "#### strings:"
   ]
  },
  {
   "cell_type": "code",
   "execution_count": 19,
   "id": "2de4bc1d",
   "metadata": {},
   "outputs": [
    {
     "data": {
      "text/plain": [
       "False"
      ]
     },
     "execution_count": 19,
     "metadata": {},
     "output_type": "execute_result"
    }
   ],
   "source": [
    "'a' in 'Hello world'"
   ]
  },
  {
   "cell_type": "code",
   "execution_count": 20,
   "id": "727d36bd",
   "metadata": {},
   "outputs": [
    {
     "data": {
      "text/plain": [
       "True"
      ]
     },
     "execution_count": 20,
     "metadata": {},
     "output_type": "execute_result"
    }
   ],
   "source": [
    "'H' in 'Hello world'"
   ]
  },
  {
   "cell_type": "markdown",
   "id": "9f96ba46",
   "metadata": {},
   "source": [
    "#### dictionaries:"
   ]
  },
  {
   "cell_type": "code",
   "execution_count": 23,
   "id": "7002eb3a",
   "metadata": {},
   "outputs": [
    {
     "data": {
      "text/plain": [
       "True"
      ]
     },
     "execution_count": 23,
     "metadata": {},
     "output_type": "execute_result"
    }
   ],
   "source": [
    "'mykey' in {'mykey':100, 'yourkey': 900, 'ourkey': 300}"
   ]
  },
  {
   "cell_type": "markdown",
   "id": "be41bbec",
   "metadata": {},
   "source": [
    "_if you want to check if it exists as a_ **`value`**_, use the_ `.values()` _operator_"
   ]
  },
  {
   "cell_type": "code",
   "execution_count": 24,
   "id": "3a5d850d",
   "metadata": {},
   "outputs": [],
   "source": [
    "d = {'mykey':100, 'yourkey': 900, 'ourkey': 300}"
   ]
  },
  {
   "cell_type": "code",
   "execution_count": 25,
   "id": "4ab62196",
   "metadata": {},
   "outputs": [
    {
     "data": {
      "text/plain": [
       "True"
      ]
     },
     "execution_count": 25,
     "metadata": {},
     "output_type": "execute_result"
    }
   ],
   "source": [
    "900 in d.values()"
   ]
  },
  {
   "cell_type": "markdown",
   "id": "c3a4c4fe",
   "metadata": {},
   "source": [
    "_if you want to check if it exists as a_ **`key`**_, use the_ `.keys()` _operator_"
   ]
  },
  {
   "cell_type": "code",
   "execution_count": 26,
   "id": "48b0f3e5",
   "metadata": {},
   "outputs": [
    {
     "data": {
      "text/plain": [
       "True"
      ]
     },
     "execution_count": 26,
     "metadata": {},
     "output_type": "execute_result"
    }
   ],
   "source": [
    "'yourkey' in d.keys()"
   ]
  },
  {
   "cell_type": "markdown",
   "id": "429fd16e",
   "metadata": {},
   "source": [
    "### Mathematical functions\n",
    "\n",
    "* **`min`** will return the minimum value from a given input\n",
    "* **`max`** will return the given maximum value from a given input\n",
    "* **`rand`** is a built-in library with various functions\n",
    "    * **`shuffle`** will shuffle a list\n",
    "    * **`randint`** will provide a random integer between the two values you specify in the input `(min, max)`"
   ]
  },
  {
   "cell_type": "code",
   "execution_count": 27,
   "id": "09ffe8c3",
   "metadata": {},
   "outputs": [],
   "source": [
    "mylist = [10, 20, 30, 40, 100, 500]"
   ]
  },
  {
   "cell_type": "code",
   "execution_count": 28,
   "id": "366f7013",
   "metadata": {},
   "outputs": [
    {
     "data": {
      "text/plain": [
       "10"
      ]
     },
     "execution_count": 28,
     "metadata": {},
     "output_type": "execute_result"
    }
   ],
   "source": [
    "min(mylist)"
   ]
  },
  {
   "cell_type": "code",
   "execution_count": 29,
   "id": "20590efb",
   "metadata": {},
   "outputs": [
    {
     "data": {
      "text/plain": [
       "500"
      ]
     },
     "execution_count": 29,
     "metadata": {},
     "output_type": "execute_result"
    }
   ],
   "source": [
    "max(mylist)"
   ]
  },
  {
   "cell_type": "code",
   "execution_count": 30,
   "id": "453a873d",
   "metadata": {},
   "outputs": [],
   "source": [
    "from random import shuffle"
   ]
  },
  {
   "cell_type": "code",
   "execution_count": 31,
   "id": "8c19774e",
   "metadata": {},
   "outputs": [],
   "source": [
    "mylist = [1, 2, 3, 4, 5, 6, 7, 8, 9, 10]"
   ]
  },
  {
   "cell_type": "code",
   "execution_count": 32,
   "id": "917ee1da",
   "metadata": {},
   "outputs": [],
   "source": [
    "shuffle(mylist)"
   ]
  },
  {
   "cell_type": "code",
   "execution_count": 33,
   "id": "b927a7ab",
   "metadata": {},
   "outputs": [
    {
     "data": {
      "text/plain": [
       "[5, 8, 2, 7, 4, 1, 9, 6, 10, 3]"
      ]
     },
     "execution_count": 33,
     "metadata": {},
     "output_type": "execute_result"
    }
   ],
   "source": [
    "mylist"
   ]
  },
  {
   "cell_type": "code",
   "execution_count": 34,
   "id": "373eff01",
   "metadata": {},
   "outputs": [],
   "source": [
    "from random import randint"
   ]
  },
  {
   "cell_type": "code",
   "execution_count": 35,
   "id": "bd1f4911",
   "metadata": {},
   "outputs": [
    {
     "data": {
      "text/plain": [
       "80"
      ]
     },
     "execution_count": 35,
     "metadata": {},
     "output_type": "execute_result"
    }
   ],
   "source": [
    "randint(0, 100)"
   ]
  },
  {
   "cell_type": "code",
   "execution_count": 36,
   "id": "2137b47f",
   "metadata": {},
   "outputs": [
    {
     "data": {
      "text/plain": [
       "45"
      ]
     },
     "execution_count": 36,
     "metadata": {},
     "output_type": "execute_result"
    }
   ],
   "source": [
    "randint(0, 100)"
   ]
  },
  {
   "cell_type": "markdown",
   "id": "bc9afec8",
   "metadata": {},
   "source": [
    "### Accepting user input\n",
    "_Note: the_ `input` _function will always return the user's input as a_ `string`\n"
   ]
  },
  {
   "cell_type": "code",
   "execution_count": 39,
   "id": "f04a33df",
   "metadata": {},
   "outputs": [
    {
     "name": "stdout",
     "output_type": "stream",
     "text": [
      "Enter a number here: 50\n"
     ]
    }
   ],
   "source": [
    "result = input('Enter a number here: ')"
   ]
  },
  {
   "cell_type": "code",
   "execution_count": 40,
   "id": "64b30eec",
   "metadata": {},
   "outputs": [
    {
     "data": {
      "text/plain": [
       "'50'"
      ]
     },
     "execution_count": 40,
     "metadata": {},
     "output_type": "execute_result"
    }
   ],
   "source": [
    "result"
   ]
  },
  {
   "cell_type": "code",
   "execution_count": 42,
   "id": "7dddcf6d",
   "metadata": {},
   "outputs": [
    {
     "data": {
      "text/plain": [
       "str"
      ]
     },
     "execution_count": 42,
     "metadata": {},
     "output_type": "execute_result"
    }
   ],
   "source": [
    "type(result)"
   ]
  },
  {
   "cell_type": "code",
   "execution_count": 46,
   "id": "d6760623",
   "metadata": {},
   "outputs": [],
   "source": [
    "result = int(result)  # converting from str to int"
   ]
  },
  {
   "cell_type": "code",
   "execution_count": 44,
   "id": "fbd6defd",
   "metadata": {},
   "outputs": [
    {
     "data": {
      "text/plain": [
       "50"
      ]
     },
     "execution_count": 44,
     "metadata": {},
     "output_type": "execute_result"
    }
   ],
   "source": [
    "result"
   ]
  },
  {
   "cell_type": "code",
   "execution_count": 45,
   "id": "bdeebb09",
   "metadata": {},
   "outputs": [
    {
     "data": {
      "text/plain": [
       "int"
      ]
     },
     "execution_count": 45,
     "metadata": {},
     "output_type": "execute_result"
    }
   ],
   "source": [
    "type(result)"
   ]
  }
 ],
 "metadata": {
  "kernelspec": {
   "display_name": "Python 3 (ipykernel)",
   "language": "python",
   "name": "python3"
  },
  "language_info": {
   "codemirror_mode": {
    "name": "ipython",
    "version": 3
   },
   "file_extension": ".py",
   "mimetype": "text/x-python",
   "name": "python",
   "nbconvert_exporter": "python",
   "pygments_lexer": "ipython3",
   "version": "3.9.12"
  }
 },
 "nbformat": 4,
 "nbformat_minor": 5
}
