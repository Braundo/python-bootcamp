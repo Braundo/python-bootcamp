{
 "cells": [
  {
   "cell_type": "markdown",
   "id": "8ea29c4d",
   "metadata": {},
   "source": [
    "# Python Documentation for Built-in Methods\n",
    "\n",
    "* You can use the built-in `help` function to get information on built-in methods\n",
    "* In **Jupyter notebook** you can hit `Shift` + `Tab` after a command to get information about it"
   ]
  },
  {
   "cell_type": "code",
   "execution_count": 6,
   "id": "10e6cde4",
   "metadata": {},
   "outputs": [],
   "source": [
    "mylist = [1,2,3]"
   ]
  },
  {
   "cell_type": "code",
   "execution_count": 7,
   "id": "85849792",
   "metadata": {},
   "outputs": [
    {
     "name": "stdout",
     "output_type": "stream",
     "text": [
      "Help on built-in function insert:\n",
      "\n",
      "insert(index, object, /) method of builtins.list instance\n",
      "    Insert object before index.\n",
      "\n"
     ]
    }
   ],
   "source": [
    "help(mylist.insert)"
   ]
  }
 ],
 "metadata": {
  "kernelspec": {
   "display_name": "Python 3 (ipykernel)",
   "language": "python",
   "name": "python3"
  },
  "language_info": {
   "codemirror_mode": {
    "name": "ipython",
    "version": 3
   },
   "file_extension": ".py",
   "mimetype": "text/x-python",
   "name": "python",
   "nbconvert_exporter": "python",
   "pygments_lexer": "ipython3",
   "version": "3.9.12"
  }
 },
 "nbformat": 4,
 "nbformat_minor": 5
}
