{
 "cells": [
  {
   "cell_type": "markdown",
   "id": "d58b9cc7",
   "metadata": {},
   "source": [
    "# Functions\n",
    "* **Functions** allow us to create blocks of code that can be easily executed many times, without needing to constantly rewrite the entire block of code\n",
    "* Creating a **function** in Python requires a very specific syntax, including the `def` keyword, correct indentation, and proper structure"
   ]
  },
  {
   "cell_type": "code",
   "execution_count": 11,
   "id": "72fc6121",
   "metadata": {},
   "outputs": [],
   "source": [
    "def name_of_function():  # notice the snake_casing_for_naming which is best practice for function naming\n",
    "    '''\n",
    "    Docstring explains function here.\n",
    "    '''\n",
    "    \n",
    "    print(\"Hello\")"
   ]
  },
  {
   "cell_type": "code",
   "execution_count": 12,
   "id": "1d01368f",
   "metadata": {},
   "outputs": [
    {
     "name": "stdout",
     "output_type": "stream",
     "text": [
      "Hello\n"
     ]
    }
   ],
   "source": [
    "name_of_function()"
   ]
  },
  {
   "cell_type": "markdown",
   "id": "0ec673b6",
   "metadata": {},
   "source": [
    "### Function Arguments:"
   ]
  },
  {
   "cell_type": "code",
   "execution_count": 9,
   "id": "8d23eb8c",
   "metadata": {},
   "outputs": [],
   "source": [
    "def name_function(name):\n",
    "    '''\n",
    "    Docstrings explains function here.\n",
    "    '''\n",
    "    \n",
    "    print(\"Hello \" + name)"
   ]
  },
  {
   "cell_type": "code",
   "execution_count": 10,
   "id": "e7f7965c",
   "metadata": {},
   "outputs": [
    {
     "name": "stdout",
     "output_type": "stream",
     "text": [
      "Hello Aaron\n"
     ]
    }
   ],
   "source": [
    "name_function(\"Aaron\")"
   ]
  },
  {
   "cell_type": "markdown",
   "id": "c5630620",
   "metadata": {},
   "source": [
    "### Return Keyword\n",
    "* Typically we use the `return` keyword to send back the result of the function instead of just printing it out\n",
    "* `return` allows us to assign the output of the function to a new variable\n",
    "\n",
    "_Example_:"
   ]
  },
  {
   "cell_type": "code",
   "execution_count": 1,
   "id": "15873a6a",
   "metadata": {},
   "outputs": [],
   "source": [
    "def add_function(num1, num2):\n",
    "    return num1 + num2"
   ]
  },
  {
   "cell_type": "code",
   "execution_count": 2,
   "id": "f1a3205f",
   "metadata": {},
   "outputs": [],
   "source": [
    "result = add_function(1,2)"
   ]
  },
  {
   "cell_type": "code",
   "execution_count": 3,
   "id": "1f207d74",
   "metadata": {},
   "outputs": [
    {
     "name": "stdout",
     "output_type": "stream",
     "text": [
      "3\n"
     ]
    }
   ],
   "source": [
    "print(result)"
   ]
  },
  {
   "cell_type": "markdown",
   "id": "f97f2d91",
   "metadata": {},
   "source": [
    "### Default Value\n",
    "* You can set a **default value** for functions so that if the user doesn't specify something, it will still work\n",
    "\n",
    "_Example_:"
   ]
  },
  {
   "cell_type": "code",
   "execution_count": 19,
   "id": "c7530352",
   "metadata": {},
   "outputs": [],
   "source": [
    "def say_hello(name='Default'):\n",
    "    print(f'Hello {name}')"
   ]
  },
  {
   "cell_type": "code",
   "execution_count": 20,
   "id": "01cf497d",
   "metadata": {},
   "outputs": [
    {
     "name": "stdout",
     "output_type": "stream",
     "text": [
      "Hello Aaron\n"
     ]
    }
   ],
   "source": [
    "say_hello('Aaron')"
   ]
  },
  {
   "cell_type": "code",
   "execution_count": 21,
   "id": "0b25955c",
   "metadata": {},
   "outputs": [
    {
     "name": "stdout",
     "output_type": "stream",
     "text": [
      "Hello Default\n"
     ]
    }
   ],
   "source": [
    "say_hello()"
   ]
  },
  {
   "cell_type": "markdown",
   "id": "fb61dbad",
   "metadata": {},
   "source": [
    "### Basic Functions Practice"
   ]
  },
  {
   "cell_type": "code",
   "execution_count": 22,
   "id": "7a606a65",
   "metadata": {},
   "outputs": [],
   "source": [
    "def add_num(num1, num2):\n",
    "    return num1 + num2"
   ]
  },
  {
   "cell_type": "code",
   "execution_count": 23,
   "id": "8d4433a7",
   "metadata": {},
   "outputs": [],
   "source": [
    "result = add_num(5,7)"
   ]
  },
  {
   "cell_type": "code",
   "execution_count": 24,
   "id": "edbf453c",
   "metadata": {},
   "outputs": [
    {
     "name": "stdout",
     "output_type": "stream",
     "text": [
      "12\n"
     ]
    }
   ],
   "source": [
    "print(result)"
   ]
  },
  {
   "cell_type": "code",
   "execution_count": 25,
   "id": "343085c4",
   "metadata": {},
   "outputs": [],
   "source": [
    "def print_result(a,b):\n",
    "    print(a+b)"
   ]
  },
  {
   "cell_type": "code",
   "execution_count": 34,
   "id": "032c549c",
   "metadata": {},
   "outputs": [],
   "source": [
    "def return_result(a,b):\n",
    "    return a+b"
   ]
  },
  {
   "cell_type": "code",
   "execution_count": 27,
   "id": "099f5b7b",
   "metadata": {},
   "outputs": [
    {
     "name": "stdout",
     "output_type": "stream",
     "text": [
      "30\n"
     ]
    }
   ],
   "source": [
    "print_result(10,20)"
   ]
  },
  {
   "cell_type": "code",
   "execution_count": 32,
   "id": "e5af25bf",
   "metadata": {},
   "outputs": [
    {
     "name": "stdout",
     "output_type": "stream",
     "text": [
      "30\n"
     ]
    }
   ],
   "source": [
    "result = print_result(10,20)  # this will not actually store anything into 'result'because \n",
    " # print_result does not reutrn a value"
   ]
  },
  {
   "cell_type": "code",
   "execution_count": 33,
   "id": "84e66efc",
   "metadata": {},
   "outputs": [],
   "source": [
    "result  # notice nothing is returned"
   ]
  },
  {
   "cell_type": "code",
   "execution_count": 35,
   "id": "9ec6210a",
   "metadata": {},
   "outputs": [],
   "source": [
    "result = return_result(10,20)"
   ]
  },
  {
   "cell_type": "code",
   "execution_count": 37,
   "id": "def05d16",
   "metadata": {},
   "outputs": [
    {
     "data": {
      "text/plain": [
       "30"
      ]
     },
     "execution_count": 37,
     "metadata": {},
     "output_type": "execute_result"
    }
   ],
   "source": [
    "result  # this DOES store the result since the function has a return keyword"
   ]
  },
  {
   "cell_type": "markdown",
   "id": "b1c22d8d",
   "metadata": {},
   "source": [
    "### Logic with Python Functions\n",
    "\n",
    "_Example checking if a number is even_:"
   ]
  },
  {
   "cell_type": "code",
   "execution_count": 4,
   "id": "cfa17c69",
   "metadata": {},
   "outputs": [],
   "source": [
    "def even_check(number):\n",
    "    return number % 2 == 0"
   ]
  },
  {
   "cell_type": "code",
   "execution_count": 2,
   "id": "1d39a3bd",
   "metadata": {},
   "outputs": [
    {
     "data": {
      "text/plain": [
       "True"
      ]
     },
     "execution_count": 2,
     "metadata": {},
     "output_type": "execute_result"
    }
   ],
   "source": [
    "even_check(20)"
   ]
  },
  {
   "cell_type": "code",
   "execution_count": 3,
   "id": "3255b11f",
   "metadata": {},
   "outputs": [
    {
     "data": {
      "text/plain": [
       "False"
      ]
     },
     "execution_count": 3,
     "metadata": {},
     "output_type": "execute_result"
    }
   ],
   "source": [
    "even_check(21)"
   ]
  },
  {
   "cell_type": "code",
   "execution_count": 10,
   "id": "031de1a2",
   "metadata": {},
   "outputs": [],
   "source": [
    "# RETURN TRUE IF ANY NUMBER IS EVEN INSIDE A LIST & RETURN THE EVEN NUMBERS\n",
    "def check_even_list(num_list):\n",
    "    \n",
    "    even_numbers = []\n",
    "    \n",
    "    for number in num_list:\n",
    "        if number % 2 == 0:\n",
    "            even_numbers.append(number)\n",
    "        else:\n",
    "            pass  # pass means, do nothing\n",
    "    \n",
    "    return even_numbers  # this is indented so that entire for loop runs before we return anything\n",
    "        \n"
   ]
  },
  {
   "cell_type": "code",
   "execution_count": 11,
   "id": "63f9653e",
   "metadata": {},
   "outputs": [
    {
     "data": {
      "text/plain": [
       "[2, 4, 6]"
      ]
     },
     "execution_count": 11,
     "metadata": {},
     "output_type": "execute_result"
    }
   ],
   "source": [
    "check_even_list([1,2,3,4,5,6])"
   ]
  },
  {
   "cell_type": "code",
   "execution_count": 12,
   "id": "825534af",
   "metadata": {},
   "outputs": [
    {
     "data": {
      "text/plain": [
       "[]"
      ]
     },
     "execution_count": 12,
     "metadata": {},
     "output_type": "execute_result"
    }
   ],
   "source": [
    "check_even_list([1,3,5,7,9])"
   ]
  },
  {
   "cell_type": "markdown",
   "id": "a28d564c",
   "metadata": {},
   "source": [
    "### Tuple Unpacking with Python Functions"
   ]
  },
  {
   "cell_type": "code",
   "execution_count": 13,
   "id": "3b7648e9",
   "metadata": {},
   "outputs": [],
   "source": [
    "stock_prices = [('AAPL', 200), ('GOOG', 400), ('MSFT', 100)]"
   ]
  },
  {
   "cell_type": "code",
   "execution_count": 14,
   "id": "5529d8f9",
   "metadata": {},
   "outputs": [
    {
     "name": "stdout",
     "output_type": "stream",
     "text": [
      "('AAPL', 200)\n",
      "('GOOG', 400)\n",
      "('MSFT', 100)\n"
     ]
    }
   ],
   "source": [
    "# we already know we can loop through tuples\n",
    "for item in stock_prices:\n",
    "    print(item)"
   ]
  },
  {
   "cell_type": "code",
   "execution_count": 16,
   "id": "799fb044",
   "metadata": {},
   "outputs": [
    {
     "name": "stdout",
     "output_type": "stream",
     "text": [
      "AAPL\n",
      "GOOG\n",
      "MSFT\n"
     ]
    }
   ],
   "source": [
    "# we can also unpack them and individually grab items\n",
    "for ticker, price in stock_prices:\n",
    "    print(ticker)"
   ]
  },
  {
   "cell_type": "code",
   "execution_count": 21,
   "id": "13283e23",
   "metadata": {},
   "outputs": [],
   "source": [
    "work_hours = [('Abby',100), ('Billy', 4000), ('Cassie', 800)]"
   ]
  },
  {
   "cell_type": "code",
   "execution_count": 19,
   "id": "359bfa85",
   "metadata": {},
   "outputs": [],
   "source": [
    "def employee_check(work_hours):\n",
    "    \n",
    "    current_max = 0\n",
    "    employee_of_month = ''\n",
    "    \n",
    "    for employee, hours in work_hours:\n",
    "        if hours > current_max:\n",
    "            current_max = hours\n",
    "            employee_of_month = employee\n",
    "        else:\n",
    "            pass\n",
    "    \n",
    "    \n",
    "    return (employee_of_month, current_max)"
   ]
  },
  {
   "cell_type": "code",
   "execution_count": 28,
   "id": "8005781b",
   "metadata": {},
   "outputs": [],
   "source": [
    "result = employee_check(work_hours)"
   ]
  },
  {
   "cell_type": "code",
   "execution_count": 29,
   "id": "d3713a39",
   "metadata": {},
   "outputs": [
    {
     "data": {
      "text/plain": [
       "('Billy', 4000)"
      ]
     },
     "execution_count": 29,
     "metadata": {},
     "output_type": "execute_result"
    }
   ],
   "source": [
    "result  # this will return the tuple"
   ]
  },
  {
   "cell_type": "code",
   "execution_count": 30,
   "id": "017ebd0c",
   "metadata": {},
   "outputs": [],
   "source": [
    "name, hours = employee_check(work_hours)  # this syntax will allow for saving values individually"
   ]
  },
  {
   "cell_type": "code",
   "execution_count": 31,
   "id": "daf48d14",
   "metadata": {},
   "outputs": [
    {
     "data": {
      "text/plain": [
       "'Billy'"
      ]
     },
     "execution_count": 31,
     "metadata": {},
     "output_type": "execute_result"
    }
   ],
   "source": [
    "name"
   ]
  },
  {
   "cell_type": "code",
   "execution_count": 32,
   "id": "d5a52200",
   "metadata": {},
   "outputs": [
    {
     "data": {
      "text/plain": [
       "4000"
      ]
     },
     "execution_count": 32,
     "metadata": {},
     "output_type": "execute_result"
    }
   ],
   "source": [
    "hours"
   ]
  },
  {
   "cell_type": "markdown",
   "id": "e18969c9",
   "metadata": {},
   "source": [
    "### Interactions between Python Functions\n",
    "* Typically a python script or notebook contains several functions interacting with each other\n",
    "* Below are a few functions to mimic the carnival guessing game \"Three Cup Monte\"\n",
    "* Our game won't actually show the cups or ball, instead we simply mimic the effect with a Python list\n",
    "* Our simple version will also not show the shuffle to the user, so the guess is completely random\n",
    "\n",
    "##### Re-examining the `shuffle` function"
   ]
  },
  {
   "cell_type": "code",
   "execution_count": 33,
   "id": "0176da6a",
   "metadata": {},
   "outputs": [],
   "source": [
    "example = [1,2,3,4,5,6,7]"
   ]
  },
  {
   "cell_type": "code",
   "execution_count": 9,
   "id": "b1f7cb07",
   "metadata": {},
   "outputs": [],
   "source": [
    "from random import shuffle"
   ]
  },
  {
   "cell_type": "code",
   "execution_count": 35,
   "id": "14d58626",
   "metadata": {},
   "outputs": [],
   "source": [
    "shuffle(example)  # note: this happens in place and does not return anything"
   ]
  },
  {
   "cell_type": "code",
   "execution_count": 37,
   "id": "f13bae38",
   "metadata": {},
   "outputs": [],
   "source": [
    "result = shuffle(example)  # this will not return anything"
   ]
  },
  {
   "cell_type": "code",
   "execution_count": 38,
   "id": "740f9fe3",
   "metadata": {},
   "outputs": [],
   "source": [
    "result  # as shown here"
   ]
  },
  {
   "cell_type": "code",
   "execution_count": 39,
   "id": "82c163f1",
   "metadata": {},
   "outputs": [
    {
     "data": {
      "text/plain": [
       "[2, 3, 4, 1, 6, 7, 5]"
      ]
     },
     "execution_count": 39,
     "metadata": {},
     "output_type": "execute_result"
    }
   ],
   "source": [
    "example"
   ]
  },
  {
   "cell_type": "code",
   "execution_count": 7,
   "id": "59285174",
   "metadata": {},
   "outputs": [],
   "source": [
    "# define our own funciton that DOES return the shuffled list\n",
    "def shuffle_list(mylist):\n",
    "    shuffle(mylist)\n",
    "    return mylist"
   ]
  },
  {
   "cell_type": "code",
   "execution_count": 43,
   "id": "7d34a526",
   "metadata": {},
   "outputs": [],
   "source": [
    "result = shuffle_list(example)"
   ]
  },
  {
   "cell_type": "code",
   "execution_count": 44,
   "id": "d6d7dc6c",
   "metadata": {},
   "outputs": [
    {
     "data": {
      "text/plain": [
       "[5, 7, 6, 3, 2, 4, 1]"
      ]
     },
     "execution_count": 44,
     "metadata": {},
     "output_type": "execute_result"
    }
   ],
   "source": [
    "result"
   ]
  },
  {
   "cell_type": "markdown",
   "id": "6524c223",
   "metadata": {},
   "source": [
    "##### Creating our shuffle game:"
   ]
  },
  {
   "cell_type": "code",
   "execution_count": 45,
   "id": "a17ad099",
   "metadata": {},
   "outputs": [],
   "source": [
    "mylist = ['', 'O', '']"
   ]
  },
  {
   "cell_type": "code",
   "execution_count": 46,
   "id": "f653359f",
   "metadata": {},
   "outputs": [
    {
     "data": {
      "text/plain": [
       "['O', '', '']"
      ]
     },
     "execution_count": 46,
     "metadata": {},
     "output_type": "execute_result"
    }
   ],
   "source": [
    "shuffle_list(mylist)"
   ]
  },
  {
   "cell_type": "code",
   "execution_count": 2,
   "id": "1e66fb49",
   "metadata": {},
   "outputs": [],
   "source": [
    "def player_guess():\n",
    "    \n",
    "    guess = ''\n",
    "    \n",
    "    while guess not in ['0', '1', '2']:  # ensure valid input\n",
    "        guess = input(\"Pick a number 0, 1, or 2: \")  #accept input\n",
    "    return int(guess)  # convert input string to int"
   ]
  },
  {
   "cell_type": "code",
   "execution_count": 52,
   "id": "42ee2e7b",
   "metadata": {},
   "outputs": [
    {
     "name": "stdout",
     "output_type": "stream",
     "text": [
      "Pick a number 0, 1, or 2: 88\n",
      "Pick a number 0, 1, or 2: 56\n",
      "Pick a number 0, 1, or 2: 2\n"
     ]
    },
    {
     "data": {
      "text/plain": [
       "2"
      ]
     },
     "execution_count": 52,
     "metadata": {},
     "output_type": "execute_result"
    }
   ],
   "source": [
    "player_guess()"
   ]
  },
  {
   "cell_type": "code",
   "execution_count": 3,
   "id": "e58e35b7",
   "metadata": {},
   "outputs": [
    {
     "name": "stdout",
     "output_type": "stream",
     "text": [
      "Pick a number 0, 1, or 2: 2\n"
     ]
    }
   ],
   "source": [
    "myindex = player_guess()"
   ]
  },
  {
   "cell_type": "code",
   "execution_count": 4,
   "id": "581b9130",
   "metadata": {},
   "outputs": [
    {
     "data": {
      "text/plain": [
       "2"
      ]
     },
     "execution_count": 4,
     "metadata": {},
     "output_type": "execute_result"
    }
   ],
   "source": [
    "myindex"
   ]
  },
  {
   "cell_type": "code",
   "execution_count": 5,
   "id": "41292e47",
   "metadata": {},
   "outputs": [],
   "source": [
    "def check_guess(mylist, guess):\n",
    "    if mylist[guess] == 'O':\n",
    "        print(\"Correct!\")\n",
    "    else:\n",
    "        print(\"Wrong guess!\")\n",
    "        print(mylist)"
   ]
  },
  {
   "cell_type": "code",
   "execution_count": 11,
   "id": "ec4ac3e0",
   "metadata": {},
   "outputs": [
    {
     "name": "stdout",
     "output_type": "stream",
     "text": [
      "Pick a number 0, 1, or 2: 1\n",
      "Wrong guess!\n",
      "['O', '', '']\n"
     ]
    }
   ],
   "source": [
    "# INITIAL LIST\n",
    "mylist = ['','O','']\n",
    "\n",
    "# SHUFFLE LIST\n",
    "mixedup_list = shuffle_list(mylist)\n",
    "\n",
    "# USER GUESS\n",
    "guess = player_guess()\n",
    "\n",
    "# CHECK GUESS\n",
    "check_guess(mixedup_list, guess)"
   ]
  }
 ],
 "metadata": {
  "kernelspec": {
   "display_name": "Python 3 (ipykernel)",
   "language": "python",
   "name": "python3"
  },
  "language_info": {
   "codemirror_mode": {
    "name": "ipython",
    "version": 3
   },
   "file_extension": ".py",
   "mimetype": "text/x-python",
   "name": "python",
   "nbconvert_exporter": "python",
   "pygments_lexer": "ipython3",
   "version": "3.9.12"
  }
 },
 "nbformat": 4,
 "nbformat_minor": 5
}
