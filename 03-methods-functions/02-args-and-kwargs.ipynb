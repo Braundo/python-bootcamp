{
 "cells": [
  {
   "cell_type": "markdown",
   "id": "04d51d72",
   "metadata": {},
   "source": [
    "# `*args` and `**kwargs`\n",
    "\n",
    "* `*args` = arguments\n",
    "* `**kwargs` = keyword arguments\n",
    "* Eventually you are going to want to be able to have your functions accept an arbritray number of arguments without having to define them all ahead of time"
   ]
  },
  {
   "cell_type": "markdown",
   "id": "58aca6b3",
   "metadata": {},
   "source": [
    "### `*args`\n",
    "This will build a tuple of the arguments passed in."
   ]
  },
  {
   "cell_type": "code",
   "execution_count": 1,
   "id": "89d10ab7",
   "metadata": {},
   "outputs": [],
   "source": [
    "def myfunc(a,b):\n",
    "    # Returns 5% of the sum of a and b\n",
    "    return sum((a,b)) * 0.05"
   ]
  },
  {
   "cell_type": "code",
   "execution_count": 2,
   "id": "32f1e062",
   "metadata": {},
   "outputs": [
    {
     "data": {
      "text/plain": [
       "5.0"
      ]
     },
     "execution_count": 2,
     "metadata": {},
     "output_type": "execute_result"
    }
   ],
   "source": [
    "myfunc(40,60)"
   ]
  },
  {
   "cell_type": "markdown",
   "id": "f948e01e",
   "metadata": {},
   "source": [
    "What if we wanted to accept any number of inputs into this function?"
   ]
  },
  {
   "cell_type": "code",
   "execution_count": 7,
   "id": "232426a4",
   "metadata": {},
   "outputs": [],
   "source": [
    "def myfunc(*args):\n",
    "    # Returns 5% of the sum of a and b\n",
    "    return sum(args) * 0.05"
   ]
  },
  {
   "cell_type": "code",
   "execution_count": 8,
   "id": "76ca975b",
   "metadata": {},
   "outputs": [
    {
     "data": {
      "text/plain": [
       "20.0"
      ]
     },
     "execution_count": 8,
     "metadata": {},
     "output_type": "execute_result"
    }
   ],
   "source": [
    "myfunc(100,100,100,100)"
   ]
  },
  {
   "cell_type": "code",
   "execution_count": 9,
   "id": "a448e6f7",
   "metadata": {},
   "outputs": [
    {
     "data": {
      "text/plain": [
       "0.2"
      ]
     },
     "execution_count": 9,
     "metadata": {},
     "output_type": "execute_result"
    }
   ],
   "source": [
    "myfunc(2,2)"
   ]
  },
  {
   "cell_type": "code",
   "execution_count": 11,
   "id": "2366026f",
   "metadata": {},
   "outputs": [
    {
     "data": {
      "text/plain": [
       "3.95"
      ]
     },
     "execution_count": 11,
     "metadata": {},
     "output_type": "execute_result"
    }
   ],
   "source": [
    "myfunc(5,12,6,4,8,3,3,8,3,2,3,7,3,8,4)"
   ]
  },
  {
   "cell_type": "markdown",
   "id": "f4d17a06",
   "metadata": {},
   "source": [
    "Note: the term `args` is an aribitrary term - you can use whatever you want there as long as you stay consistent\n",
    "\n",
    "But, by convention it's best practice to use the term `args`"
   ]
  },
  {
   "cell_type": "markdown",
   "id": "3348f407",
   "metadata": {},
   "source": [
    "### `**kwargs`\n",
    "This will build a dictionary of key:value pairs"
   ]
  },
  {
   "cell_type": "code",
   "execution_count": 15,
   "id": "83e52af6",
   "metadata": {},
   "outputs": [],
   "source": [
    "def myfunc(**kwargs):\n",
    "    print(kwargs)\n",
    "    if 'fruit' in kwargs:\n",
    "        print('My fruit of choice is {}'.format(kwargs['fruit']))\n",
    "    else:\n",
    "        print('I did not find any fruit here.')"
   ]
  },
  {
   "cell_type": "code",
   "execution_count": 16,
   "id": "a267eb88",
   "metadata": {},
   "outputs": [
    {
     "name": "stdout",
     "output_type": "stream",
     "text": [
      "{'fruit': 'apple', 'veggie': 'lettuce'}\n",
      "My fruit of choice is apple\n"
     ]
    }
   ],
   "source": [
    "myfunc(fruit='apple', veggie='lettuce')"
   ]
  },
  {
   "cell_type": "markdown",
   "id": "bea10fdc",
   "metadata": {},
   "source": [
    "Note: just as above, the term `kwargs` is an aribitrary term - you can use whatever you want there as long as you stay consistent\n",
    "\n",
    "But, by convention it's best practice to use the term `kwargs`"
   ]
  },
  {
   "cell_type": "markdown",
   "id": "e34eba71",
   "metadata": {},
   "source": [
    "### Using `*args` and `**kwargs` in combination"
   ]
  },
  {
   "cell_type": "code",
   "execution_count": 17,
   "id": "96ea9967",
   "metadata": {},
   "outputs": [],
   "source": [
    "def myfunc(*args, **kwargs):\n",
    "    \n",
    "    print('I would like {} {}'.format(args[0], kwargs['food']))"
   ]
  },
  {
   "cell_type": "code",
   "execution_count": 18,
   "id": "82e3f37b",
   "metadata": {},
   "outputs": [
    {
     "name": "stdout",
     "output_type": "stream",
     "text": [
      "I would like 10 eggs\n"
     ]
    }
   ],
   "source": [
    "myfunc(10, 20, 30, fruit='orange', food = 'eggs', animal = 'dog')"
   ]
  }
 ],
 "metadata": {
  "kernelspec": {
   "display_name": "Python 3 (ipykernel)",
   "language": "python",
   "name": "python3"
  },
  "language_info": {
   "codemirror_mode": {
    "name": "ipython",
    "version": 3
   },
   "file_extension": ".py",
   "mimetype": "text/x-python",
   "name": "python",
   "nbconvert_exporter": "python",
   "pygments_lexer": "ipython3",
   "version": "3.9.12"
  }
 },
 "nbformat": 4,
 "nbformat_minor": 5
}
