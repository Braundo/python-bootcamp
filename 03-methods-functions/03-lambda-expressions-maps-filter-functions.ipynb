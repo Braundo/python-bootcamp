{
 "cells": [
  {
   "cell_type": "markdown",
   "id": "c213bbc3",
   "metadata": {},
   "source": [
    "# Lambda Expressions, Map, and Filter Functions\n",
    "\n",
    "\n",
    "\n",
    "## `map` function"
   ]
  },
  {
   "cell_type": "code",
   "execution_count": 20,
   "id": "8653908d",
   "metadata": {},
   "outputs": [],
   "source": [
    "def square(num):\n",
    "    return num**2"
   ]
  },
  {
   "cell_type": "code",
   "execution_count": 21,
   "id": "3e51f6dc",
   "metadata": {},
   "outputs": [],
   "source": [
    "my_nums = [1,2,3,4,5]"
   ]
  },
  {
   "cell_type": "markdown",
   "id": "3f290e94",
   "metadata": {},
   "source": [
    "Instead of using a `for` loop to to get the square of each item in the list, we can use a **map**\n",
    "\n",
    "There are two ways to accomplish this with **maps** - the first way is to use a `for` loop with the following syntax:\n",
    "\n",
    "```\n",
    "for item in map(func,list):\n",
    "    print(item)\n",
    "```\n",
    "\n",
    "_Example below_:"
   ]
  },
  {
   "cell_type": "code",
   "execution_count": 24,
   "id": "5fbf415f",
   "metadata": {},
   "outputs": [
    {
     "name": "stdout",
     "output_type": "stream",
     "text": [
      "1\n",
      "4\n",
      "9\n",
      "16\n",
      "25\n"
     ]
    }
   ],
   "source": [
    "for item in map(square,my_nums):  # for each item in the list, use the square function on the given list (my_nums)\n",
    "    print(item)"
   ]
  },
  {
   "cell_type": "markdown",
   "id": "c0da7138",
   "metadata": {},
   "source": [
    "The other way to accomplish this with maps is to store the result in a list itself:"
   ]
  },
  {
   "cell_type": "code",
   "execution_count": 25,
   "id": "a6359ace",
   "metadata": {},
   "outputs": [
    {
     "data": {
      "text/plain": [
       "[1, 4, 9, 16, 25]"
      ]
     },
     "execution_count": 25,
     "metadata": {},
     "output_type": "execute_result"
    }
   ],
   "source": [
    "list(map(square,my_nums))"
   ]
  },
  {
   "cell_type": "code",
   "execution_count": null,
   "id": "f5d8ea0f",
   "metadata": {},
   "outputs": [],
   "source": []
  },
  {
   "cell_type": "code",
   "execution_count": 27,
   "id": "e7f00fc4",
   "metadata": {},
   "outputs": [],
   "source": [
    "def splicer(mystring):\n",
    "    if len(mystring) % 2 == 0:\n",
    "        return 'EVEN'\n",
    "    else:\n",
    "        return mystring[0]"
   ]
  },
  {
   "cell_type": "code",
   "execution_count": 9,
   "id": "9b11eaa5",
   "metadata": {},
   "outputs": [],
   "source": [
    "names = ['Andy', 'Eve', 'Sally']"
   ]
  },
  {
   "cell_type": "code",
   "execution_count": 29,
   "id": "89cef2ae",
   "metadata": {},
   "outputs": [
    {
     "data": {
      "text/plain": [
       "['EVEN', 'E', 'S']"
      ]
     },
     "execution_count": 29,
     "metadata": {},
     "output_type": "execute_result"
    }
   ],
   "source": [
    "list(map(splicer,names))"
   ]
  },
  {
   "cell_type": "markdown",
   "id": "c36b8116",
   "metadata": {},
   "source": [
    "## `filter` function\n",
    "\n",
    "* Requires a function that returns either `True` or `False`"
   ]
  },
  {
   "cell_type": "code",
   "execution_count": 3,
   "id": "d95e96b9",
   "metadata": {},
   "outputs": [],
   "source": [
    "def check_even(num):\n",
    "    return num % 2 == 0"
   ]
  },
  {
   "cell_type": "code",
   "execution_count": 2,
   "id": "6b263fd7",
   "metadata": {},
   "outputs": [],
   "source": [
    "mynums = [1,2,3,4,5,6]"
   ]
  },
  {
   "cell_type": "code",
   "execution_count": 4,
   "id": "d0ba0b8e",
   "metadata": {},
   "outputs": [
    {
     "data": {
      "text/plain": [
       "[2, 4, 6]"
      ]
     },
     "execution_count": 4,
     "metadata": {},
     "output_type": "execute_result"
    }
   ],
   "source": [
    "# lets say I only want even numbers from the list\n",
    "list(filter(check_even,mynums))"
   ]
  },
  {
   "cell_type": "markdown",
   "id": "c41282a2",
   "metadata": {},
   "source": [
    "## Lambda Expressions\n",
    "\n",
    "The simplest syntax for a **lambda expression** is:\n",
    "`lambda <input>: <return value or expression>`"
   ]
  },
  {
   "cell_type": "code",
   "execution_count": 44,
   "id": "000a5bfa",
   "metadata": {},
   "outputs": [],
   "source": [
    "def square(num):\n",
    "    result = num ** 2\n",
    "    return result"
   ]
  },
  {
   "cell_type": "code",
   "execution_count": 45,
   "id": "d21f97e0",
   "metadata": {},
   "outputs": [
    {
     "data": {
      "text/plain": [
       "9"
      ]
     },
     "execution_count": 45,
     "metadata": {},
     "output_type": "execute_result"
    }
   ],
   "source": [
    "square(3)"
   ]
  },
  {
   "cell_type": "markdown",
   "id": "a65842e3",
   "metadata": {},
   "source": [
    "Let's see how we turn the simple function above into a **lambda expression**"
   ]
  },
  {
   "cell_type": "code",
   "execution_count": 5,
   "id": "ccc66785",
   "metadata": {},
   "outputs": [],
   "source": [
    "square = lambda num: num ** 2"
   ]
  },
  {
   "cell_type": "code",
   "execution_count": 48,
   "id": "07cc9b00",
   "metadata": {},
   "outputs": [
    {
     "data": {
      "text/plain": [
       "25"
      ]
     },
     "execution_count": 48,
     "metadata": {},
     "output_type": "execute_result"
    }
   ],
   "source": [
    "square(5)"
   ]
  },
  {
   "cell_type": "markdown",
   "id": "ccb9f3d8",
   "metadata": {},
   "source": [
    "Oftentimes instead of assigning the **lambda expression** to a variable like that, it's used in conjunction with `map` and `filter` functions"
   ]
  },
  {
   "cell_type": "code",
   "execution_count": 6,
   "id": "5db4892c",
   "metadata": {},
   "outputs": [
    {
     "data": {
      "text/plain": [
       "[1, 4, 9, 16, 25, 36]"
      ]
     },
     "execution_count": 6,
     "metadata": {},
     "output_type": "execute_result"
    }
   ],
   "source": [
    "list(map(lambda num:num**2,mynums))"
   ]
  },
  {
   "cell_type": "markdown",
   "id": "9fb64ca2",
   "metadata": {},
   "source": [
    "And here is a **lambda expression** used in conjunction with a `filter` expression:"
   ]
  },
  {
   "cell_type": "code",
   "execution_count": 7,
   "id": "b7577e4a",
   "metadata": {},
   "outputs": [
    {
     "data": {
      "text/plain": [
       "[2, 4, 6]"
      ]
     },
     "execution_count": 7,
     "metadata": {},
     "output_type": "execute_result"
    }
   ],
   "source": [
    "list(filter(lambda num: num%2 == 0, mynums))"
   ]
  },
  {
   "cell_type": "code",
   "execution_count": 10,
   "id": "d7ee12f5",
   "metadata": {},
   "outputs": [
    {
     "data": {
      "text/plain": [
       "['Andy', 'Eve', 'Sally']"
      ]
     },
     "execution_count": 10,
     "metadata": {},
     "output_type": "execute_result"
    }
   ],
   "source": [
    "names"
   ]
  },
  {
   "cell_type": "code",
   "execution_count": 11,
   "id": "54985452",
   "metadata": {},
   "outputs": [
    {
     "data": {
      "text/plain": [
       "['A', 'E', 'S']"
      ]
     },
     "execution_count": 11,
     "metadata": {},
     "output_type": "execute_result"
    }
   ],
   "source": [
    "# lets say we just want the first character of each name in the `names` list\n",
    "list(map(lambda name:name[0],names))"
   ]
  },
  {
   "cell_type": "code",
   "execution_count": 12,
   "id": "58497ad3",
   "metadata": {},
   "outputs": [
    {
     "data": {
      "text/plain": [
       "['ydnA', 'evE', 'yllaS']"
      ]
     },
     "execution_count": 12,
     "metadata": {},
     "output_type": "execute_result"
    }
   ],
   "source": [
    "# lets say we wanted to reverse all of the names\n",
    "list(map(lambda name:name[::-1],names))"
   ]
  }
 ],
 "metadata": {
  "kernelspec": {
   "display_name": "Python 3 (ipykernel)",
   "language": "python",
   "name": "python3"
  },
  "language_info": {
   "codemirror_mode": {
    "name": "ipython",
    "version": 3
   },
   "file_extension": ".py",
   "mimetype": "text/x-python",
   "name": "python",
   "nbconvert_exporter": "python",
   "pygments_lexer": "ipython3",
   "version": "3.9.12"
  }
 },
 "nbformat": 4,
 "nbformat_minor": 5
}
