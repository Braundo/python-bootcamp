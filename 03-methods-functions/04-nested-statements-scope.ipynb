{
 "cells": [
  {
   "cell_type": "markdown",
   "id": "3aa8d7f3",
   "metadata": {},
   "source": [
    "# Nested Statements and Scope\n",
    "\n",
    "### LEGB Rule:\n",
    "* **L: Local** - Names assigned in any way within a function (`def` or `lambda`), and not declared global in that function\n",
    "* **E: Enclosing function locals** - Names in the local scope of any and all enclosing functions (`def` or `lambda`), from inner to outer\n",
    "* **G: Global (module)** - Names assigned at the top-level of a module file, or declared global in a `def` within the file\n",
    "* **B: Built-in (Python)** - Names preassigned in the built-in names module: `open`, `range`, `SyntaxError`, ...\n",
    "\n",
    "\n",
    "## Local variable syntax\n",
    "\n",
    "`lambda num:num**2`  <-- `num` is a **local** variable here\n",
    "\n",
    "\n",
    "\n",
    "## Global, Enclosing, Local Examples"
   ]
  },
  {
   "cell_type": "code",
   "execution_count": 14,
   "id": "6f958056",
   "metadata": {},
   "outputs": [],
   "source": [
    "# GLOBAL\n",
    "name = 'GLOBAL'\n",
    "\n",
    "def greet():\n",
    "    # ENCLOSING\n",
    "    name = 'ENCLOSING'\n",
    "    \n",
    "    def hello():\n",
    "        # LOCAL\n",
    "        name = 'LOCAL'\n",
    "        print('Variable: ' + name)\n",
    "        \n",
    "    hello()"
   ]
  },
  {
   "cell_type": "code",
   "execution_count": 13,
   "id": "5526fcea",
   "metadata": {},
   "outputs": [
    {
     "name": "stdout",
     "output_type": "stream",
     "text": [
      "Variable: LOCAL\n"
     ]
    }
   ],
   "source": [
    "greet()"
   ]
  },
  {
   "cell_type": "code",
   "execution_count": 20,
   "id": "ff200a36",
   "metadata": {},
   "outputs": [],
   "source": [
    "# global 'x' assignment\n",
    "x = 50\n",
    "\n",
    "def func(x):\n",
    "    print(f'X is {x}')\n",
    "    \n",
    "    # reassign 'x' locally\n",
    "    x = 200\n",
    "    print(f'I JUST LOCALLY CHANGED X TO {x}')"
   ]
  },
  {
   "cell_type": "code",
   "execution_count": 21,
   "id": "3bfe7158",
   "metadata": {},
   "outputs": [
    {
     "name": "stdout",
     "output_type": "stream",
     "text": [
      "X is 50\n",
      "I JUST LOCALLY CHANGED X TO 200\n"
     ]
    }
   ],
   "source": [
    "func(x)"
   ]
  },
  {
   "cell_type": "code",
   "execution_count": 22,
   "id": "6c3c7083",
   "metadata": {},
   "outputs": [
    {
     "name": "stdout",
     "output_type": "stream",
     "text": [
      "50\n"
     ]
    }
   ],
   "source": [
    "print(x)"
   ]
  },
  {
   "cell_type": "markdown",
   "id": "e8f57e23",
   "metadata": {},
   "source": [
    "Note that `x` is still **50** because the reassignment above only occurred in the local function scope, not globally.\n",
    "\n",
    "#### How to use the `global` keyword to reassign a global variable:"
   ]
  },
  {
   "cell_type": "code",
   "execution_count": 27,
   "id": "4b22397c",
   "metadata": {},
   "outputs": [],
   "source": [
    "# global 'x' assignment\n",
    "x = 50\n",
    "\n",
    "def func():\n",
    "    global x  # this is saying to grab the global variable and persist any changes that happen to it\n",
    "    print(f'X is {x}')\n",
    "    \n",
    "    # reassign 'x' on a global variable\n",
    "    x = 200\n",
    "    print(f'I JUST GLOBALLY CHANGED X TO {x}')"
   ]
  },
  {
   "cell_type": "code",
   "execution_count": 24,
   "id": "4e620735",
   "metadata": {},
   "outputs": [
    {
     "name": "stdout",
     "output_type": "stream",
     "text": [
      "50\n"
     ]
    }
   ],
   "source": [
    "print(x)"
   ]
  },
  {
   "cell_type": "code",
   "execution_count": 25,
   "id": "496b588a",
   "metadata": {},
   "outputs": [
    {
     "name": "stdout",
     "output_type": "stream",
     "text": [
      "X is 50\n",
      "I JUST GLOBALLY CHANGED X TO 200\n"
     ]
    }
   ],
   "source": [
    "func()"
   ]
  },
  {
   "cell_type": "code",
   "execution_count": 28,
   "id": "bbb087d1",
   "metadata": {},
   "outputs": [
    {
     "name": "stdout",
     "output_type": "stream",
     "text": [
      "50\n"
     ]
    }
   ],
   "source": [
    "print(x)"
   ]
  },
  {
   "cell_type": "markdown",
   "id": "21ddf6c7",
   "metadata": {},
   "source": [
    "A more reasonable way to do this is to use the `return` statement"
   ]
  },
  {
   "cell_type": "code",
   "execution_count": 31,
   "id": "ede8cf79",
   "metadata": {},
   "outputs": [],
   "source": [
    "# global 'x' assignment\n",
    "x = 50\n",
    "\n",
    "def func(x):\n",
    "    print(f'X is {x}')\n",
    "    \n",
    "    # reassign 'x' on a global variable\n",
    "    x = 200\n",
    "    print(f'I JUST GLOBALLY CHANGED X TO {x}')\n",
    "    return x"
   ]
  },
  {
   "cell_type": "code",
   "execution_count": 32,
   "id": "8d0adc58",
   "metadata": {},
   "outputs": [
    {
     "name": "stdout",
     "output_type": "stream",
     "text": [
      "50\n"
     ]
    }
   ],
   "source": [
    "print(x)"
   ]
  },
  {
   "cell_type": "code",
   "execution_count": 33,
   "id": "eee1fbe6",
   "metadata": {},
   "outputs": [
    {
     "name": "stdout",
     "output_type": "stream",
     "text": [
      "X is 50\n",
      "I JUST GLOBALLY CHANGED X TO 200\n"
     ]
    }
   ],
   "source": [
    "x = func(x)"
   ]
  },
  {
   "cell_type": "code",
   "execution_count": 34,
   "id": "9de6e4a9",
   "metadata": {},
   "outputs": [
    {
     "name": "stdout",
     "output_type": "stream",
     "text": [
      "200\n"
     ]
    }
   ],
   "source": [
    "print(x)"
   ]
  }
 ],
 "metadata": {
  "kernelspec": {
   "display_name": "Python 3 (ipykernel)",
   "language": "python",
   "name": "python3"
  },
  "language_info": {
   "codemirror_mode": {
    "name": "ipython",
    "version": 3
   },
   "file_extension": ".py",
   "mimetype": "text/x-python",
   "name": "python",
   "nbconvert_exporter": "python",
   "pygments_lexer": "ipython3",
   "version": "3.9.12"
  }
 },
 "nbformat": 4,
 "nbformat_minor": 5
}
